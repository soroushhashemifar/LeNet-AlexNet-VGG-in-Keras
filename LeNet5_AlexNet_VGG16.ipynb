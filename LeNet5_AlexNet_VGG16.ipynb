{
  "nbformat": 4,
  "nbformat_minor": 0,
  "metadata": {
    "colab": {
      "name": "LeNet5-AlexNet-VGG16.ipynb",
      "version": "0.3.2",
      "provenance": [],
      "collapsed_sections": []
    },
    "kernelspec": {
      "display_name": "Python 3",
      "language": "python",
      "name": "python3"
    },
    "accelerator": "GPU"
  },
  "cells": [
    {
      "metadata": {
        "id": "4hYVrFDEeGKR",
        "colab_type": "code",
        "colab": {}
      },
      "cell_type": "code",
      "source": [
        "from keras import layers, models\n",
        "from keras.datasets import cifar10, mnist, cifar100\n",
        "from keras.utils import to_categorical\n",
        "from keras.optimizers import Adam"
      ],
      "execution_count": 0,
      "outputs": []
    },
    {
      "metadata": {
        "id": "OVIEhkCyzslu",
        "colab_type": "code",
        "colab": {}
      },
      "cell_type": "code",
      "source": [
        "def LeNet5_model():\n",
        "  model = models.Sequential()\n",
        "  \n",
        "  model.add(layers.Conv2D(6, (5,5), activation='relu', input_shape=(32,32,3), name='CONV1')) # output: 28,28,6\n",
        "  \n",
        "  model.add(layers.AveragePooling2D(pool_size=(2,2), strides=(2,2), name='AVGPOOL1')) # output: 14,14,6\n",
        "  \n",
        "  model.add(layers.Conv2D(16, (5,5), strides=(1,1), name='CONV2')) # output: 10,10,16\n",
        "  \n",
        "  model.add(layers.AveragePooling2D(pool_size=(2,2), strides=(2,2), name='AVGPOOL2')) # output: 5,5,16\n",
        "  \n",
        "  model.add(layers.Flatten()) # output: 400\n",
        "  \n",
        "  model.add(layers.Dense(120, activation='relu', name='FC1'))\n",
        "  model.add(layers.Dropout(0.25))\n",
        "  model.add(layers.Dense(84, activation='relu', name='FC2'))\n",
        "  model.add(layers.Dropout(0.25))\n",
        "  model.add(layers.Dense(10, activation='softmax', name='SOFTMAX'))\n",
        "  \n",
        "  return model"
      ],
      "execution_count": 0,
      "outputs": []
    },
    {
      "metadata": {
        "id": "TtEM6veRetyV",
        "colab_type": "code",
        "colab": {}
      },
      "cell_type": "code",
      "source": [
        "def AlexNet_model(): # spread borders using padding to 227\n",
        "  model = models.Sequential()\n",
        "\n",
        "  model.add(layers.ZeroPadding2D(padding=(195,195), input_shape=(32, 32, 3))) # to make the dataset 227,227,3\n",
        "  \n",
        "  model.add(layers.Conv2D(96, (11,11), strides=(4,4), input_shape=(227, 227, 3), activation='relu', name='CONV1')) # output: 55,55,96\n",
        "\n",
        "  model.add(layers.MaxPooling2D(pool_size=(3,3), strides=(2,2), name='POOL1')) # output: 27,27,96\n",
        "  \n",
        "  model.add(layers.Conv2D(256, (5,5), strides=(1,1), padding='same', activation='relu', name='CONV2')) # output: 27,27,256\n",
        "    \n",
        "  model.add(layers.MaxPooling2D(pool_size=(3,3), strides=(2,2), name='POOL2')) # output: 13,13,256\n",
        "  \n",
        "  model.add(layers.Conv2D(384, (3,3), padding='same', activation='relu', name='CONV3')) # output: 13,13,384\n",
        "  \n",
        "  model.add(layers.Conv2D(384, (3,3), padding='same', activation='relu', name='CONV4')) # output: 13,13,384\n",
        "  \n",
        "  model.add(layers.Conv2D(256, (3,3), padding='same', activation='relu', name='CONV5')) # output: 13,13,256\n",
        "    \n",
        "  model.add(layers.MaxPooling2D(pool_size=(3,3), strides=(2,2), name='POOL3')) # output: 6,6,256\n",
        "    \n",
        "  model.add(layers.Flatten()) # output: 9216\n",
        "  model.add(layers.Dense(4096, activation='relu', name='FC1'))\n",
        "#   model.add(layers.Dropout(0.5))\n",
        "  model.add(layers.Dense(4096, activation='relu', name='FC2'))\n",
        "#   model.add(layers.Dropout(0.5))\n",
        "  model.add(layers.Dense(100, activation='softmax', name='SOFTMAX'))\n",
        "  \n",
        "  return model"
      ],
      "execution_count": 0,
      "outputs": []
    },
    {
      "metadata": {
        "id": "L0vl99II1GJP",
        "colab_type": "code",
        "colab": {}
      },
      "cell_type": "code",
      "source": [
        "def VGG16_model():\n",
        "  model = models.Sequential()\n",
        "  \n",
        "  model.add(layers.ZeroPadding2D(padding=(192,192), input_shape=(32, 32, 3))) # to make the dataset 224,224,3\n",
        "  \n",
        "  model.add(layers.Conv2D(64, (3,3), activation='relu', padding='same', input_shape=(224,224,3), name='CONV1')) # output: 224,224,64\n",
        "  model.add(layers.Conv2D(64, (3,3), activation='relu', padding='same', name='CONV2')) # output: 224,224,64\n",
        "\n",
        "  model.add(layers.MaxPooling2D(pool_size=(2,2), strides=(2,2), name='MAXPOOL1')) # output: 112,112,64\n",
        "  \n",
        "  model.add(layers.Conv2D(128, (3,3), activation='relu', padding='same', name='CONV3')) # output: 112,112,128\n",
        "  model.add(layers.Conv2D(128, (3,3), activation='relu', padding='same', name='CONV4')) # output: 112,112,128\n",
        "  \n",
        "  model.add(layers.MaxPooling2D(pool_size=(2,2), strides=(2,2), name='MAXPOOL2')) # output: 56,56,128\n",
        "  \n",
        "  model.add(layers.Conv2D(256, (3,3), activation='relu', padding='same', name='CONV5')) # output: 56,56,256\n",
        "  model.add(layers.Conv2D(256, (3,3), activation='relu', padding='same', name='CONV6')) # output:56,56,256\n",
        "  model.add(layers.Conv2D(256, (3,3), activation='relu', padding='same', name='CONV7')) # output: 56,56,256\n",
        "  \n",
        "  model.add(layers.MaxPooling2D(pool_size=(2,2), strides=(2,2), name='MAXPOOL3')) # output: 28,28,256\n",
        "  \n",
        "  model.add(layers.Conv2D(512, (3,3), activation='relu', padding='same', name='CONV8')) # output: 28,28,512\n",
        "  model.add(layers.Conv2D(512, (3,3), activation='relu', padding='same', name='CONV9')) # output: 28,28,512\n",
        "  model.add(layers.Conv2D(512, (3,3), activation='relu', padding='same', name='CONV10')) # output: 28,28,512\n",
        "  \n",
        "  model.add(layers.MaxPooling2D(pool_size=(2,2), strides=(2,2), name='MAXPOOL4')) # output: 14,14,512\n",
        "  \n",
        "  model.add(layers.Conv2D(512, (3,3), activation='relu', padding='same', name='CONV11')) # output: 14,14,512\n",
        "  model.add(layers.Conv2D(512, (3,3), activation='relu', padding='same', name='CONV12')) # output: 14,14,512\n",
        "  model.add(layers.Conv2D(512, (3,3), activation='relu', padding='same', name='CONV13')) # output: 14,14,512\n",
        "  \n",
        "  model.add(layers.MaxPooling2D(pool_size=(2,2), strides=(2,2), name='MAXPOOL5')) # output: 7,7,512\n",
        "  \n",
        "  model.add(layers.Flatten()) # output: 25088\n",
        "  \n",
        "  model.add(layers.Dense(4096, activation='relu', name='FC1'))\n",
        "  model.add(layers.Dense(4096, activation='relu', name='FC2'))\n",
        "  model.add(layers.Dense(10, activation='softmax', name='SOFTMAX'))\n",
        "  \n",
        "  return model"
      ],
      "execution_count": 0,
      "outputs": []
    },
    {
      "metadata": {
        "id": "K9Rspu5Celg4",
        "colab_type": "code",
        "colab": {}
      },
      "cell_type": "code",
      "source": [
        "# (x_train, y_train), (x_test, y_test) = cifar10.load_data()\n",
        "(x_train, y_train), (x_test, y_test) = cifar100.load_data()\n",
        "# (x_train, y_train), (x_test, y_test) = mnist.load_data()\n",
        "\n",
        "x_train, y_train, x_test, y_test = x_train / 255, y_train, x_test / 255, y_test\n",
        "\n",
        "print(x_train.shape, y_train.shape, x_test.shape, y_test.shape)\n",
        "\n",
        "y_train = to_categorical(y_train)\n",
        "y_test = to_categorical(y_test)"
      ],
      "execution_count": 0,
      "outputs": []
    },
    {
      "metadata": {
        "id": "DRg86IGpkGdv",
        "colab_type": "code",
        "colab": {}
      },
      "cell_type": "code",
      "source": [
        "model = AlexNet_model()\n",
        "# model = LeNet5_model()\n",
        "# model = VGG16_model()\n",
        "\n",
        "model.compile(optimizer=Adam(lr=0.001),\n",
        "              loss='categorical_crossentropy',\n",
        "              metrics=['accuracy']\n",
        "             )\n",
        "\n",
        "model.fit(x_train, y_train, epochs=100000, batch_size=32, validation_split=0.1)"
      ],
      "execution_count": 0,
      "outputs": []
    },
    {
      "metadata": {
        "id": "c4t13kS6d6bz",
        "colab_type": "code",
        "colab": {}
      },
      "cell_type": "code",
      "source": [
        "model.save_weights('model.h5')"
      ],
      "execution_count": 0,
      "outputs": []
    },
    {
      "metadata": {
        "id": "7rwwlOH-JoPZ",
        "colab_type": "code",
        "colab": {}
      },
      "cell_type": "code",
      "source": [
        "print(model.summary())"
      ],
      "execution_count": 0,
      "outputs": []
    },
    {
      "metadata": {
        "id": "kB6DeCfB4eO2",
        "colab_type": "code",
        "colab": {}
      },
      "cell_type": "code",
      "source": [
        "test_loss, test_acc = model.evaluate(x_test, y_test)\n",
        "print(test_acc)"
      ],
      "execution_count": 0,
      "outputs": []
    }
  ]
}